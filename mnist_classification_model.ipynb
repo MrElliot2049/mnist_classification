{
 "cells": [
  {
   "cell_type": "code",
   "execution_count": 14,
   "id": "0a2586c5-15e8-43d6-8b04-e6ac7fea9f00",
   "metadata": {},
   "outputs": [],
   "source": [
    "import numpy as np\n",
    "import struct\n",
    "\n",
    "def load_images(path):\n",
    "    with open(path, 'rb') as f:\n",
    "        magic, num, rows, cols = struct.unpack(\">IIII\", f.read(16))\n",
    "        return np.frombuffer(f.read(), dtype=np.uint8).reshape(num, rows * cols) / 255.0\n",
    "\n",
    "def load_labels(path):\n",
    "    with open(path, 'rb') as f:\n",
    "        magic, num = struct.unpack(\">II\", f.read(8))\n",
    "        return np.frombuffer(f.read(), dtype=np.uint8)\n",
    "\n",
    "# Load all datasets\n",
    "X_train = load_images(r'C:\\Users\\adamy\\OneDrive\\Desktop\\mnist classification\\data\\train-images.idx3-ubyte')\n",
    "y_train = load_labels(r'C:\\Users\\adamy\\OneDrive\\Desktop\\mnist classification\\data\\train-labels.idx1-ubyte')\n",
    "X_test = load_images(r'C:\\Users\\adamy\\OneDrive\\Desktop\\mnist classification\\data\\t10k-images.idx3-ubyte')\n",
    "y_test = load_labels(r'C:\\Users\\adamy\\OneDrive\\Desktop\\mnist classification\\data\\t10k-labels.idx1-ubyte')\n"
   ]
  },
  {
   "cell_type": "code",
   "execution_count": 15,
   "id": "c776fdfe-4b0e-4047-adc5-5d93b9f07dfe",
   "metadata": {},
   "outputs": [],
   "source": [
    "def one_hot(y, num_classes=10):\n",
    "    return np.eye(num_classes)[y]\n",
    "\n",
    "y_train_oh = one_hot(y_train)\n",
    "y_test_oh = one_hot(y_test)\n"
   ]
  },
  {
   "cell_type": "code",
   "execution_count": 24,
   "id": "2eeef3bc-5eb4-4c25-aa1e-2592b0c17221",
   "metadata": {},
   "outputs": [],
   "source": [
    "class NeuralNet:\n",
    "    def __init__(self, input_size, h1_size, h2_size, output_size):\n",
    "        self.W1 = np.random.randn(input_size, h1_size) * 0.01\n",
    "        self.b1 = np.zeros((1, h1_size))\n",
    "        self.W2 = np.random.randn(h1_size, h2_size) * 0.01\n",
    "        self.b2 = np.zeros((1, h2_size))\n",
    "        self.W3 = np.random.randn(h2_size, output_size) * 0.01\n",
    "        self.b3 = np.zeros((1, output_size))\n",
    "\n",
    "    def relu(self, Z):\n",
    "        return np.maximum(0, Z)\n",
    "\n",
    "    def relu_deriv(self, Z):\n",
    "        return Z > 0\n",
    "\n",
    "    def softmax(self, Z):\n",
    "        expZ = np.exp(Z - np.max(Z, axis=1, keepdims=True))\n",
    "        return expZ / np.sum(expZ, axis=1, keepdims=True)\n",
    "\n",
    "    def forward(self, X):\n",
    "        self.Z1 = X @ self.W1 + self.b1\n",
    "        self.A1 = self.relu(self.Z1)\n",
    "        self.Z2 = self.A1 @ self.W2 + self.b2\n",
    "        self.A2 = self.relu(self.Z2)\n",
    "        self.Z3 = self.A2 @ self.W3 + self.b3\n",
    "        self.A3 = self.softmax(self.Z3)\n",
    "        return self.A3\n",
    "\n",
    "    def backward(self, X, y_true, y_pred, lr):\n",
    "        m = X.shape[0]\n",
    "\n",
    "        dZ3 = y_pred - y_true\n",
    "        dW3 = self.A2.T @ dZ3 / m\n",
    "        db3 = np.sum(dZ3, axis=0, keepdims=True) / m\n",
    "\n",
    "        dA2 = dZ3 @ self.W3.T\n",
    "        dZ2 = dA2 * self.relu_deriv(self.Z2)\n",
    "        dW2 = self.A1.T @ dZ2 / m\n",
    "        db2 = np.sum(dZ2, axis=0, keepdims=True) / m\n",
    "\n",
    "        dA1 = dZ2 @ self.W2.T\n",
    "        dZ1 = dA1 * self.relu_deriv(self.Z1)\n",
    "        dW1 = X.T @ dZ1 / m\n",
    "        db1 = np.sum(dZ1, axis=0, keepdims=True) / m\n",
    "\n",
    "        self.W1 -= lr * dW1\n",
    "        self.b1 -= lr * db1\n",
    "        self.W2 -= lr * dW2\n",
    "        self.b2 -= lr * db2\n",
    "        self.W3 -= lr * dW3\n",
    "        self.b3 -= lr * db3\n",
    "    def predict(self, X):\n",
    "        output = self.forward(X)\n",
    "        return np.argmax(output, axis=1)  "
   ]
  },
  {
   "cell_type": "code",
   "execution_count": 17,
   "id": "091d9dc1-ca53-428d-883c-65c572defd44",
   "metadata": {},
   "outputs": [
    {
     "name": "stdout",
     "output_type": "stream",
     "text": [
      "Epoch 1, Test Accuracy: 0.8810\n",
      "Epoch 2, Test Accuracy: 0.9361\n",
      "Epoch 3, Test Accuracy: 0.9580\n",
      "Epoch 4, Test Accuracy: 0.9598\n",
      "Epoch 5, Test Accuracy: 0.9652\n",
      "Epoch 6, Test Accuracy: 0.9728\n",
      "Epoch 7, Test Accuracy: 0.9736\n",
      "Epoch 8, Test Accuracy: 0.9692\n",
      "Epoch 9, Test Accuracy: 0.9773\n",
      "Epoch 10, Test Accuracy: 0.9755\n",
      "Epoch 11, Test Accuracy: 0.9719\n",
      "Epoch 12, Test Accuracy: 0.9733\n",
      "Epoch 13, Test Accuracy: 0.9783\n",
      "Epoch 14, Test Accuracy: 0.9774\n",
      "Epoch 15, Test Accuracy: 0.9797\n",
      "Epoch 16, Test Accuracy: 0.9788\n",
      "Epoch 17, Test Accuracy: 0.9789\n",
      "Epoch 18, Test Accuracy: 0.9775\n",
      "Epoch 19, Test Accuracy: 0.9788\n",
      "Epoch 20, Test Accuracy: 0.9797\n"
     ]
    }
   ],
   "source": [
    "model = NeuralNet(input_size=784, h1_size=128, h2_size=64, output_size=10)\n",
    "epochs = 20\n",
    "lr = 0.1\n",
    "batch_size = 64\n",
    "\n",
    "for epoch in range(epochs):\n",
    "    permutation = np.random.permutation(X_train.shape[0])\n",
    "    X_train_shuffled = X_train[permutation]\n",
    "    y_train_shuffled = y_train_oh[permutation]\n",
    "\n",
    "    for i in range(0, X_train.shape[0], batch_size):\n",
    "        X_batch = X_train_shuffled[i:i+batch_size]\n",
    "        y_batch = y_train_shuffled[i:i+batch_size]\n",
    "        y_pred = model.forward(X_batch)\n",
    "        model.backward(X_batch, y_batch, y_pred, lr)\n",
    "\n",
    "    y_pred_test = model.forward(X_test)\n",
    "    acc = np.mean(np.argmax(y_pred_test, axis=1) == y_test)\n",
    "    print(f\"Epoch {epoch+1}, Test Accuracy: {acc:.4f}\")\n"
   ]
  },
  {
   "cell_type": "code",
   "execution_count": 26,
   "id": "f3345727-df2d-4159-9545-ce8cb3f3b79b",
   "metadata": {},
   "outputs": [
    {
     "data": {
      "image/png": "[encoded data removed]",
      "text/plain": [
       "<Figure size 640x480 with 1 Axes>"
      ]
     },
     "metadata": {},
     "output_type": "display_data"
    }
   ],
   "source": [
    "import matplotlib.pyplot as plt\n",
    "\n",
    "def show_image(index):\n",
    "    img = X_test[index].reshape(28, 28)\n",
    "    pred = np.argmax(model.forward(X_test[index:index+1]))\n",
    "    true = y_test[index]\n",
    "    plt.imshow(img, cmap='gray')\n",
    "    plt.title(f\"Predicted: {pred}, True: {true}\")\n",
    "    plt.axis('off')\n",
    "    plt.show()\n",
    "\n",
    "show_image(0)\n"
   ]
  }
 ],
 "metadata": {
  "kernelspec": {
   "display_name": "Python 3 (ipykernel)",
   "language": "python",
   "name": "python3"
  },
  "language_info": {
   "codemirror_mode": {
    "name": "ipython",
    "version": 3
   },
   "file_extension": ".py",
   "mimetype": "text/x-python",
   "name": "python",
   "nbconvert_exporter": "python",
   "pygments_lexer": "ipython3",
   "version": "3.12.4"
  }
 },
 "nbformat": 4,
 "nbformat_minor": 5
}
